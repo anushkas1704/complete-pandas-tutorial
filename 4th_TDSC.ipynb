{
 "cells": [
  {
   "cell_type": "markdown",
   "id": "89c1f023",
   "metadata": {},
   "source": [
    "#### Pandas Overview\n",
    "\n",
    "Pandas is a **data manipulation** library based on **NumPy**, used for **data analysis**, **cleaning**, and **preprocessing**.  \n",
    "\n",
    "Pandas supports **in-memory databases**, meaning all data is stored in your computer’s RAM for fast access and processing.  \n",
    "\n",
    "Pandas primarily provides **two data structures**:\n",
    "\n",
    "1. **Series**\n",
    "   - A **1-dimensional array-like** data structure.\n",
    "   - Can hold homogeneous data.\n",
    "   \n",
    "2. **DataFrame**\n",
    "   - A **2-dimensional**, size-mutable, table-like data structure.\n",
    "   - Can hold **heterogeneous data elements** (different data types in different columns).\n",
    "   - Provides **labeled access** to rows and columns.\n"
   ]
  },
  {
   "cell_type": "markdown",
   "id": "b5eabbb4",
   "metadata": {},
   "source": [
    "#### importing "
   ]
  },
  {
   "cell_type": "code",
   "execution_count": 3,
   "id": "d7da49ab",
   "metadata": {},
   "outputs": [],
   "source": [
    "import pandas as pd\n",
    "import numpy as np"
   ]
  },
  {
   "cell_type": "code",
   "execution_count": 23,
   "id": "349725ca",
   "metadata": {},
   "outputs": [
    {
     "data": {
      "text/plain": [
       "numpy.ndarray"
      ]
     },
     "execution_count": 23,
     "metadata": {},
     "output_type": "execute_result"
    }
   ],
   "source": [
    "labels=['a','b','c']\n",
    "labels\n",
    "mydata=[10,20,30]\n",
    "mydata\n",
    "arr=np.array(mydata)\n",
    "arr\n",
    "d={'a':10,'b':20,'c':30}\n",
    "d\n",
    "type(arr)"
   ]
  },
  {
   "cell_type": "code",
   "execution_count": 14,
   "id": "bde2742d",
   "metadata": {},
   "outputs": [
    {
     "data": {
      "text/plain": [
       "0    10\n",
       "1    20\n",
       "2    30\n",
       "3    40\n",
       "dtype: int64"
      ]
     },
     "execution_count": 14,
     "metadata": {},
     "output_type": "execute_result"
    }
   ],
   "source": [
    "pd.Series(data=mydata)"
   ]
  },
  {
   "cell_type": "code",
   "execution_count": 20,
   "id": "5b662716",
   "metadata": {},
   "outputs": [
    {
     "data": {
      "text/plain": [
       "pandas.core.series.Series"
      ]
     },
     "execution_count": 20,
     "metadata": {},
     "output_type": "execute_result"
    }
   ],
   "source": [
    "type(pd.Series(data=mydata))"
   ]
  },
  {
   "cell_type": "markdown",
   "id": "4e1ee3ea",
   "metadata": {},
   "source": [
    "#### parameters passed in    Series "
   ]
  },
  {
   "cell_type": "code",
   "execution_count": null,
   "id": "8ff742ce",
   "metadata": {},
   "outputs": [],
   "source": [
    "'''pandas.Series(\n",
    "    data=None,\n",
    "    index=None,\n",
    "    dtype=None,\n",
    "    name=None,\n",
    "    copy=False,\n",
    "    fastpath=False\n",
    ")\n",
    "'''"
   ]
  },
  {
   "cell_type": "code",
   "execution_count": 24,
   "id": "dc96306d",
   "metadata": {},
   "outputs": [
    {
     "data": {
      "text/plain": [
       "a    10\n",
       "b    20\n",
       "c    30\n",
       "dtype: int64"
      ]
     },
     "execution_count": 24,
     "metadata": {},
     "output_type": "execute_result"
    }
   ],
   "source": [
    "pd.Series(data=mydata, index=labels)\n"
   ]
  },
  {
   "cell_type": "code",
   "execution_count": 26,
   "id": "0a4802d7",
   "metadata": {},
   "outputs": [
    {
     "data": {
      "text/plain": [
       "{'a': 10, 'b': 20, 'c': 30}"
      ]
     },
     "execution_count": 26,
     "metadata": {},
     "output_type": "execute_result"
    }
   ],
   "source": [
    "pd.Series(d)\n",
    "d"
   ]
  },
  {
   "cell_type": "code",
   "execution_count": 27,
   "id": "da9721a1",
   "metadata": {},
   "outputs": [
    {
     "name": "stdout",
     "output_type": "stream",
     "text": [
      "0    a\n",
      "1    b\n",
      "2    c\n",
      "dtype: object\n",
      "a    10\n",
      "b    20\n",
      "c    30\n",
      "dtype: int64\n",
      "0      <built-in function sum>\n",
      "1      <built-in function len>\n",
      "2    <built-in function print>\n",
      "dtype: object\n"
     ]
    }
   ],
   "source": [
    "\n",
    "pd_series = pd.Series(labels)\n",
    "print(pd_series)\n",
    "\n",
    "pd_series = pd.Series(d)\n",
    "print(pd_series)\n",
    "\n",
    "\n",
    "pd_series = pd.Series([sum,len,print])\n",
    "print(pd_series)"
   ]
  },
  {
   "cell_type": "markdown",
   "id": "cfea951f",
   "metadata": {},
   "source": [
    "#### dataframes\n",
    "1. like excel , having rows and columns \n",
    "2. 2d \n"
   ]
  },
  {
   "cell_type": "code",
   "execution_count": 32,
   "id": "c21beb1a",
   "metadata": {},
   "outputs": [
    {
     "data": {
      "text/html": [
       "<div>\n",
       "<style scoped>\n",
       "    .dataframe tbody tr th:only-of-type {\n",
       "        vertical-align: middle;\n",
       "    }\n",
       "\n",
       "    .dataframe tbody tr th {\n",
       "        vertical-align: top;\n",
       "    }\n",
       "\n",
       "    .dataframe thead th {\n",
       "        text-align: right;\n",
       "    }\n",
       "</style>\n",
       "<table border=\"1\" class=\"dataframe\">\n",
       "  <thead>\n",
       "    <tr style=\"text-align: right;\">\n",
       "      <th></th>\n",
       "      <th>K</th>\n",
       "      <th>L</th>\n",
       "      <th>M</th>\n",
       "      <th>N</th>\n",
       "    </tr>\n",
       "  </thead>\n",
       "  <tbody>\n",
       "    <tr>\n",
       "      <th>A</th>\n",
       "      <td>2.706850</td>\n",
       "      <td>0.628133</td>\n",
       "      <td>0.907969</td>\n",
       "      <td>0.503826</td>\n",
       "    </tr>\n",
       "    <tr>\n",
       "      <th>B</th>\n",
       "      <td>0.651118</td>\n",
       "      <td>-0.319318</td>\n",
       "      <td>-0.848077</td>\n",
       "      <td>0.605965</td>\n",
       "    </tr>\n",
       "    <tr>\n",
       "      <th>C</th>\n",
       "      <td>-2.018168</td>\n",
       "      <td>0.740122</td>\n",
       "      <td>0.528813</td>\n",
       "      <td>-0.589001</td>\n",
       "    </tr>\n",
       "    <tr>\n",
       "      <th>D</th>\n",
       "      <td>0.188695</td>\n",
       "      <td>-0.758872</td>\n",
       "      <td>-0.933237</td>\n",
       "      <td>0.955057</td>\n",
       "    </tr>\n",
       "    <tr>\n",
       "      <th>E</th>\n",
       "      <td>0.190794</td>\n",
       "      <td>1.978757</td>\n",
       "      <td>2.605967</td>\n",
       "      <td>0.683509</td>\n",
       "    </tr>\n",
       "  </tbody>\n",
       "</table>\n",
       "</div>"
      ],
      "text/plain": [
       "          K         L         M         N\n",
       "A  2.706850  0.628133  0.907969  0.503826\n",
       "B  0.651118 -0.319318 -0.848077  0.605965\n",
       "C -2.018168  0.740122  0.528813 -0.589001\n",
       "D  0.188695 -0.758872 -0.933237  0.955057\n",
       "E  0.190794  1.978757  2.605967  0.683509"
      ]
     },
     "execution_count": 32,
     "metadata": {},
     "output_type": "execute_result"
    }
   ],
   "source": [
    "from  numpy.random import randn\n",
    "np.random.seed(101)\n",
    "\n",
    "df=pd.DataFrame(randn(5,4),['A','B','C','D','E'],['K','L','M','N'])\n",
    "df\n"
   ]
  },
  {
   "cell_type": "code",
   "execution_count": 37,
   "id": "17ec684c",
   "metadata": {},
   "outputs": [
    {
     "name": "stdout",
     "output_type": "stream",
     "text": [
      "A    2.706850\n",
      "B    0.651118\n",
      "C   -2.018168\n",
      "D    0.188695\n",
      "E    0.190794\n",
      "Name: K, dtype: float64\n",
      "          K         M\n",
      "A  2.706850  0.907969\n",
      "B  0.651118 -0.848077\n",
      "C -2.018168  0.528813\n",
      "D  0.188695 -0.933237\n",
      "E  0.190794  2.605967\n",
      "<class 'pandas.core.series.Series'>\n"
     ]
    }
   ],
   "source": [
    "print(df['K'])\n",
    "print(df[['K','M']])\n",
    "\n",
    "print(type(df['K']))\n"
   ]
  },
  {
   "cell_type": "code",
   "execution_count": null,
   "id": "d95dd759",
   "metadata": {},
   "outputs": [],
   "source": []
  }
 ],
 "metadata": {
  "kernelspec": {
   "display_name": "Python 3",
   "language": "python",
   "name": "python3"
  },
  "language_info": {
   "codemirror_mode": {
    "name": "ipython",
    "version": 3
   },
   "file_extension": ".py",
   "mimetype": "text/x-python",
   "name": "python",
   "nbconvert_exporter": "python",
   "pygments_lexer": "ipython3",
   "version": "3.13.0"
  }
 },
 "nbformat": 4,
 "nbformat_minor": 5
}
