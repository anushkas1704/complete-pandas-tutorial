{
 "cells": [
  {
   "cell_type": "markdown",
   "id": "89c1f023",
   "metadata": {},
   "source": [
    "#### Pandas Overview\n",
    "\n",
    "Pandas is a **data manipulation** library based on **NumPy**, used for **data analysis**, **cleaning**, and **preprocessing**.  \n",
    "\n",
    "Pandas supports **in-memory databases**, meaning all data is stored in your computer’s RAM for fast access and processing.  \n",
    "\n",
    "Pandas primarily provides **two data structures**:\n",
    "\n",
    "1. **Series**\n",
    "   - A **1-dimensional array-like** data structure.\n",
    "   - Can hold homogeneous data.\n",
    "   \n",
    "2. **DataFrame**\n",
    "   - A **2-dimensional**, size-mutable, table-like data structure.\n",
    "   - Can hold **heterogeneous data elements** (different data types in different columns).\n",
    "   - Provides **labeled access** to rows and columns.\n"
   ]
  },
  {
   "cell_type": "markdown",
   "id": "b5eabbb4",
   "metadata": {},
   "source": [
    "#### importing "
   ]
  },
  {
   "cell_type": "code",
   "execution_count": 3,
   "id": "d7da49ab",
   "metadata": {},
   "outputs": [],
   "source": [
    "import pandas as pd\n",
    "import numpy as np"
   ]
  },
  {
   "cell_type": "code",
   "execution_count": 23,
   "id": "349725ca",
   "metadata": {},
   "outputs": [
    {
     "data": {
      "text/plain": [
       "numpy.ndarray"
      ]
     },
     "execution_count": 23,
     "metadata": {},
     "output_type": "execute_result"
    }
   ],
   "source": [
    "labels=['a','b','c']\n",
    "labels\n",
    "mydata=[10,20,30]\n",
    "mydata\n",
    "arr=np.array(mydata)\n",
    "arr\n",
    "d={'a':10,'b':20,'c':30}\n",
    "d\n",
    "type(arr)"
   ]
  },
  {
   "cell_type": "code",
   "execution_count": 14,
   "id": "bde2742d",
   "metadata": {},
   "outputs": [
    {
     "data": {
      "text/plain": [
       "0    10\n",
       "1    20\n",
       "2    30\n",
       "3    40\n",
       "dtype: int64"
      ]
     },
     "execution_count": 14,
     "metadata": {},
     "output_type": "execute_result"
    }
   ],
   "source": [
    "pd.Series(data=mydata)"
   ]
  },
  {
   "cell_type": "code",
   "execution_count": 20,
   "id": "5b662716",
   "metadata": {},
   "outputs": [
    {
     "data": {
      "text/plain": [
       "pandas.core.series.Series"
      ]
     },
     "execution_count": 20,
     "metadata": {},
     "output_type": "execute_result"
    }
   ],
   "source": [
    "type(pd.Series(data=mydata))"
   ]
  },
  {
   "cell_type": "markdown",
   "id": "4e1ee3ea",
   "metadata": {},
   "source": [
    "#### parameters passed in    Series "
   ]
  },
  {
   "cell_type": "code",
   "execution_count": null,
   "id": "8ff742ce",
   "metadata": {},
   "outputs": [],
   "source": [
    "'''pandas.Series(\n",
    "    data=None,\n",
    "    index=None,\n",
    "    dtype=None,\n",
    "    name=None,\n",
    "    copy=False,\n",
    "    fastpath=False\n",
    ")\n",
    "'''"
   ]
  },
  {
   "cell_type": "code",
   "execution_count": 24,
   "id": "dc96306d",
   "metadata": {},
   "outputs": [
    {
     "data": {
      "text/plain": [
       "a    10\n",
       "b    20\n",
       "c    30\n",
       "dtype: int64"
      ]
     },
     "execution_count": 24,
     "metadata": {},
     "output_type": "execute_result"
    }
   ],
   "source": [
    "pd.Series(data=mydata, index=labels)\n"
   ]
  },
  {
   "cell_type": "code",
   "execution_count": 26,
   "id": "0a4802d7",
   "metadata": {},
   "outputs": [
    {
     "data": {
      "text/plain": [
       "{'a': 10, 'b': 20, 'c': 30}"
      ]
     },
     "execution_count": 26,
     "metadata": {},
     "output_type": "execute_result"
    }
   ],
   "source": [
    "pd.Series(d)\n",
    "d"
   ]
  },
  {
   "cell_type": "code",
   "execution_count": 27,
   "id": "da9721a1",
   "metadata": {},
   "outputs": [
    {
     "name": "stdout",
     "output_type": "stream",
     "text": [
      "0    a\n",
      "1    b\n",
      "2    c\n",
      "dtype: object\n",
      "a    10\n",
      "b    20\n",
      "c    30\n",
      "dtype: int64\n",
      "0      <built-in function sum>\n",
      "1      <built-in function len>\n",
      "2    <built-in function print>\n",
      "dtype: object\n"
     ]
    }
   ],
   "source": [
    "\n",
    "pd_series = pd.Series(labels)\n",
    "print(pd_series)\n",
    "\n",
    "pd_series = pd.Series(d)\n",
    "print(pd_series)\n",
    "\n",
    "\n",
    "pd_series = pd.Series([sum,len,print])\n",
    "print(pd_series)"
   ]
  },
  {
   "cell_type": "markdown",
   "id": "cfea951f",
   "metadata": {},
   "source": [
    "#### dataframes\n",
    "1. like excel , having rows and columns \n",
    "2. 2d \n"
   ]
  },
  {
   "cell_type": "code",
   "execution_count": null,
   "id": "c21beb1a",
   "metadata": {},
   "outputs": [],
   "source": []
  }
 ],
 "metadata": {
  "kernelspec": {
   "display_name": "Python 3",
   "language": "python",
   "name": "python3"
  },
  "language_info": {
   "codemirror_mode": {
    "name": "ipython",
    "version": 3
   },
   "file_extension": ".py",
   "mimetype": "text/x-python",
   "name": "python",
   "nbconvert_exporter": "python",
   "pygments_lexer": "ipython3",
   "version": "3.13.0"
  }
 },
 "nbformat": 4,
 "nbformat_minor": 5
}
