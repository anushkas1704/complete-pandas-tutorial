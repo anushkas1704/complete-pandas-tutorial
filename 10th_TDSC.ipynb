{
 "cells": [
  {
   "cell_type": "markdown",
   "id": "ea32be65",
   "metadata": {},
   "source": [
    "Measure of variance \n",
    "\n",
    "spread is the measure of all observations , from its central tendancy , \n",
    "\n",
    "\n"
   ]
  },
  {
   "cell_type": "markdown",
   "id": "9bdaeb21",
   "metadata": {},
   "source": []
  }
 ],
 "metadata": {
  "language_info": {
   "name": "python"
  }
 },
 "nbformat": 4,
 "nbformat_minor": 5
}
