{
 "cells": [
  {
   "cell_type": "code",
   "execution_count": 1,
   "id": "6d2288ec",
   "metadata": {},
   "outputs": [],
   "source": [
    "import numpy as np"
   ]
  },
  {
   "cell_type": "code",
   "execution_count": 2,
   "id": "6a4477a1",
   "metadata": {},
   "outputs": [],
   "source": [
    "a=np.arange(2,20,5)"
   ]
  },
  {
   "cell_type": "code",
   "execution_count": 3,
   "id": "0385be1d",
   "metadata": {},
   "outputs": [
    {
     "data": {
      "text/plain": [
       "np.int64(17)"
      ]
     },
     "execution_count": 3,
     "metadata": {},
     "output_type": "execute_result"
    }
   ],
   "source": [
    "a.max()"
   ]
  },
  {
   "cell_type": "code",
   "execution_count": 4,
   "id": "796797f3",
   "metadata": {},
   "outputs": [
    {
     "data": {
      "text/plain": [
       "array([ 2,  7, 12, 17])"
      ]
     },
     "execution_count": 4,
     "metadata": {},
     "output_type": "execute_result"
    }
   ],
   "source": [
    "a"
   ]
  },
  {
   "cell_type": "code",
   "execution_count": 6,
   "id": "b28c349e",
   "metadata": {},
   "outputs": [
    {
     "data": {
      "text/plain": [
       "array([ 1,  2,  3,  4,  5,  6,  7,  8,  9, 10])"
      ]
     },
     "execution_count": 6,
     "metadata": {},
     "output_type": "execute_result"
    }
   ],
   "source": [
    "s_arr=np.arange(1,11)\n",
    "s_arr"
   ]
  },
  {
   "cell_type": "code",
   "execution_count": 7,
   "id": "9a3030e4",
   "metadata": {},
   "outputs": [
    {
     "data": {
      "text/plain": [
       "np.int64(3)"
      ]
     },
     "execution_count": 7,
     "metadata": {},
     "output_type": "execute_result"
    }
   ],
   "source": [
    "s_arr[2]"
   ]
  },
  {
   "cell_type": "code",
   "execution_count": 8,
   "id": "4efc0aba",
   "metadata": {},
   "outputs": [
    {
     "data": {
      "text/plain": [
       "array([1, 2, 3, 4])"
      ]
     },
     "execution_count": 8,
     "metadata": {},
     "output_type": "execute_result"
    }
   ],
   "source": [
    "s_arr[0:4]"
   ]
  },
  {
   "cell_type": "code",
   "execution_count": 22,
   "id": "34139094",
   "metadata": {},
   "outputs": [
    {
     "data": {
      "text/plain": [
       "array([[1, 2, 3],\n",
       "       [4, 5, 6],\n",
       "       [7, 8, 9]])"
      ]
     },
     "execution_count": 22,
     "metadata": {},
     "output_type": "execute_result"
    }
   ],
   "source": [
    "sample_mat=np.array(([1,2,3],[4,5,6],[7,8,9]))\n",
    "sample_mat\n"
   ]
  },
  {
   "cell_type": "code",
   "execution_count": null,
   "id": "0946d6e0",
   "metadata": {},
   "outputs": [
    {
     "data": {
      "text/plain": [
       "array([1, 2, 3])"
      ]
     },
     "execution_count": 12,
     "metadata": {},
     "output_type": "execute_result"
    }
   ],
   "source": [
    "type(sample_mat)"
   ]
  },
  {
   "cell_type": "code",
   "execution_count": 14,
   "id": "88638a93",
   "metadata": {},
   "outputs": [
    {
     "data": {
      "text/plain": [
       "array([1, 2, 3])"
      ]
     },
     "execution_count": 14,
     "metadata": {},
     "output_type": "execute_result"
    }
   ],
   "source": [
    "sample_mat[0]"
   ]
  },
  {
   "cell_type": "code",
   "execution_count": 16,
   "id": "f100b735",
   "metadata": {},
   "outputs": [
    {
     "data": {
      "text/plain": [
       "np.int64(3)"
      ]
     },
     "execution_count": 16,
     "metadata": {},
     "output_type": "execute_result"
    }
   ],
   "source": [
    "sample_mat[0,2]"
   ]
  },
  {
   "cell_type": "code",
   "execution_count": 17,
   "id": "bbb686d5",
   "metadata": {},
   "outputs": [
    {
     "data": {
      "text/plain": [
       "array([[4, 5, 6]])"
      ]
     },
     "execution_count": 17,
     "metadata": {},
     "output_type": "execute_result"
    }
   ],
   "source": [
    "sample_mat[1:2]"
   ]
  },
  {
   "cell_type": "code",
   "execution_count": null,
   "id": "fbb7ad10",
   "metadata": {},
   "outputs": [
    {
     "data": {
      "text/plain": [
       "array([[1, 2, 3],\n",
       "       [4, 5, 6],\n",
       "       [7, 8, 9]])"
      ]
     },
     "execution_count": 19,
     "metadata": {},
     "output_type": "execute_result"
    }
   ],
   "source": [
    "sample_mat[:2,1:]\n"
   ]
  },
  {
   "cell_type": "code",
   "execution_count": 21,
   "id": "4129dbd0",
   "metadata": {},
   "outputs": [
    {
     "data": {
      "text/plain": [
       "array([5, 6])"
      ]
     },
     "execution_count": 21,
     "metadata": {},
     "output_type": "execute_result"
    }
   ],
   "source": [
    "sample_mat[1,1:]\n"
   ]
  },
  {
   "cell_type": "code",
   "execution_count": 20,
   "id": "c380e345",
   "metadata": {},
   "outputs": [
    {
     "data": {
      "text/plain": [
       "array([[1, 2, 3],\n",
       "       [4, 5, 6],\n",
       "       [7, 8, 9]])"
      ]
     },
     "execution_count": 20,
     "metadata": {},
     "output_type": "execute_result"
    }
   ],
   "source": [
    "sample_mat[0:5]"
   ]
  },
  {
   "cell_type": "code",
   "execution_count": 26,
   "id": "7f3b902f",
   "metadata": {},
   "outputs": [
    {
     "data": {
      "text/plain": [
       "array([400, 400, 400,   4,   5,   6,   7,   8,   9,  10])"
      ]
     },
     "execution_count": 26,
     "metadata": {},
     "output_type": "execute_result"
    }
   ],
   "source": [
    "s_arr[0:3]=400\n",
    "s_arr"
   ]
  },
  {
   "cell_type": "code",
   "execution_count": 28,
   "id": "3a306f7e",
   "metadata": {},
   "outputs": [
    {
     "name": "stdout",
     "output_type": "stream",
     "text": [
      "2865337307504\n",
      "2865336876368\n",
      "2865336450672\n",
      "2865336876368\n"
     ]
    }
   ],
   "source": [
    "print(id(s_arr[0:5]))\n",
    "slice_s_arr=s_arr[0:5]\n",
    "s=slice_s_arr\n",
    "print(id(slice_s_arr))\n",
    "print(id(s_arr))\n",
    "print(id(s))\n"
   ]
  },
  {
   "cell_type": "code",
   "execution_count": 31,
   "id": "54e5614f",
   "metadata": {},
   "outputs": [
    {
     "data": {
      "text/plain": [
       "array([100, 100, 100, 100, 100])"
      ]
     },
     "execution_count": 31,
     "metadata": {},
     "output_type": "execute_result"
    }
   ],
   "source": [
    "slice_s_arr[:]=100\n",
    "slice_s_arr\n"
   ]
  },
  {
   "cell_type": "code",
   "execution_count": 32,
   "id": "331b7584",
   "metadata": {},
   "outputs": [
    {
     "data": {
      "text/plain": [
       "array([100, 100, 100, 100, 100,   6,   7,   8,   9,  10])"
      ]
     },
     "execution_count": 32,
     "metadata": {},
     "output_type": "execute_result"
    }
   ],
   "source": [
    "s_arr"
   ]
  },
  {
   "cell_type": "code",
   "execution_count": 34,
   "id": "21e96254",
   "metadata": {},
   "outputs": [
    {
     "data": {
      "text/plain": [
       "array([100, 100, 100, 100, 100,   6,   7,   8,   9,  10])"
      ]
     },
     "execution_count": 34,
     "metadata": {},
     "output_type": "execute_result"
    }
   ],
   "source": [
    "s_arr_copy=s_arr.copy()\n",
    "s_arr_copy"
   ]
  },
  {
   "cell_type": "code",
   "execution_count": 35,
   "id": "918a86f1",
   "metadata": {},
   "outputs": [],
   "source": [
    "s_arr_copy[:]=300\n"
   ]
  },
  {
   "cell_type": "markdown",
   "id": "4aa83cd2",
   "metadata": {},
   "source": [
    "difference between range and arange fucntipn "
   ]
  },
  {
   "cell_type": "code",
   "execution_count": 37,
   "id": "f34ac752",
   "metadata": {},
   "outputs": [
    {
     "data": {
      "text/plain": [
       "array([ 1,  2,  3,  4,  5,  6,  7,  8,  9, 10])"
      ]
     },
     "execution_count": 37,
     "metadata": {},
     "output_type": "execute_result"
    }
   ],
   "source": [
    "arr=np.arange(1,11)\n",
    "arr"
   ]
  },
  {
   "cell_type": "code",
   "execution_count": 39,
   "id": "1d724e5a",
   "metadata": {},
   "outputs": [
    {
     "name": "stdout",
     "output_type": "stream",
     "text": [
      "[False False False False False  True  True  True  True  True]\n"
     ]
    },
    {
     "data": {
      "text/plain": [
       "numpy.ndarray"
      ]
     },
     "execution_count": 39,
     "metadata": {},
     "output_type": "execute_result"
    }
   ],
   "source": [
    "boolean_arr=arr>5\n",
    "print(boolean_arr)\n",
    "type(boolean_arr)"
   ]
  },
  {
   "cell_type": "code",
   "execution_count": 52,
   "id": "8b380772",
   "metadata": {},
   "outputs": [
    {
     "ename": "NameError",
     "evalue": "name 'numpy' is not defined",
     "output_type": "error",
     "traceback": [
      "\u001b[1;31m---------------------------------------------------------------------------\u001b[0m",
      "\u001b[1;31mNameError\u001b[0m                                 Traceback (most recent call last)",
      "Cell \u001b[1;32mIn[52], line 2\u001b[0m\n\u001b[0;32m      1\u001b[0m b\u001b[38;5;241m=\u001b[39mnp\u001b[38;5;241m.\u001b[39marange(\u001b[38;5;241m1\u001b[39m,\u001b[38;5;241m20\u001b[39m,\u001b[38;5;241m5\u001b[39m)\n\u001b[1;32m----> 2\u001b[0m \u001b[43mnumpy\u001b[49m\u001b[38;5;241m.\u001b[39madd(a,b)\n\u001b[0;32m      3\u001b[0m a\n",
      "\u001b[1;31mNameError\u001b[0m: name 'numpy' is not defined"
     ]
    }
   ],
   "source": [
    "b=np.arange(1,20,5)\n",
    "numpy.add(a,b)\n",
    "a"
   ]
  },
  {
   "cell_type": "code",
   "execution_count": 45,
   "id": "09dd081c",
   "metadata": {},
   "outputs": [
    {
     "data": {
      "text/plain": [
       "array([[ 0,  1,  2,  3,  4,  5,  6,  7,  8,  9],\n",
       "       [10, 11, 12, 13, 14, 15, 16, 17, 18, 19],\n",
       "       [20, 21, 22, 23, 24, 25, 26, 27, 28, 29],\n",
       "       [30, 31, 32, 33, 34, 35, 36, 37, 38, 39],\n",
       "       [40, 41, 42, 43, 44, 45, 46, 47, 48, 49]])"
      ]
     },
     "execution_count": 45,
     "metadata": {},
     "output_type": "execute_result"
    }
   ],
   "source": [
    "arr_2d=np.arange(50).reshape(5,10)\n",
    "arr_2d"
   ]
  },
  {
   "cell_type": "code",
   "execution_count": 49,
   "id": "347eda08",
   "metadata": {},
   "outputs": [
    {
     "data": {
      "text/plain": [
       "array([ 2,  7, 12, 17])"
      ]
     },
     "execution_count": 49,
     "metadata": {},
     "output_type": "execute_result"
    }
   ],
   "source": [
    "a\n"
   ]
  },
  {
   "cell_type": "code",
   "execution_count": 53,
   "id": "a30c785c",
   "metadata": {},
   "outputs": [
    {
     "data": {
      "text/plain": [
       "array([ 3, 13, 23, 33])"
      ]
     },
     "execution_count": 53,
     "metadata": {},
     "output_type": "execute_result"
    }
   ],
   "source": [
    "np.add(a,b)\n"
   ]
  },
  {
   "cell_type": "code",
   "execution_count": 54,
   "id": "94821448",
   "metadata": {},
   "outputs": [
    {
     "data": {
      "text/plain": [
       "array([ 1,  6, 11, 16])"
      ]
     },
     "execution_count": 54,
     "metadata": {},
     "output_type": "execute_result"
    }
   ],
   "source": [
    "b"
   ]
  },
  {
   "cell_type": "code",
   "execution_count": 56,
   "id": "e9c18afb",
   "metadata": {},
   "outputs": [
    {
     "data": {
      "text/plain": [
       "array([ 200,  700, 1200, 1700])"
      ]
     },
     "execution_count": 56,
     "metadata": {},
     "output_type": "execute_result"
    }
   ],
   "source": [
    "b=np.dot(a,100)\n",
    "b"
   ]
  },
  {
   "cell_type": "code",
   "execution_count": 70,
   "id": "3522463c",
   "metadata": {},
   "outputs": [
    {
     "data": {
      "text/plain": [
       "array([ 3,  9, 15])"
      ]
     },
     "execution_count": 70,
     "metadata": {},
     "output_type": "execute_result"
    }
   ],
   "source": [
    "c=np.arange(2,20,6)\n",
    "c\n",
    "d=np.arange(3,21,6)\n",
    "d\n"
   ]
  },
  {
   "cell_type": "code",
   "execution_count": 71,
   "id": "2de1563e",
   "metadata": {},
   "outputs": [
    {
     "data": {
      "text/plain": [
       "array([-6, 12, -6])"
      ]
     },
     "execution_count": 71,
     "metadata": {},
     "output_type": "execute_result"
    }
   ],
   "source": [
    "e=np.cross(c,d)\n",
    "e"
   ]
  },
  {
   "cell_type": "code",
   "execution_count": 72,
   "id": "9caec37a",
   "metadata": {},
   "outputs": [
    {
     "name": "stdout",
     "output_type": "stream",
     "text": [
      "cross prodcut of 3d vectors:[-3  6 -3]\n"
     ]
    }
   ],
   "source": [
    "#implement bubble sort in python\n",
    "\n",
    "#3d vectors\n",
    "a=np.array([1,2,3])\n",
    "b=np.array([4,5,6])\n",
    "cp_3d=np.cross(a,b)\n",
    "print(f'cross prodcut of 3d vectors:{cp_3d}')\n",
    "\n"
   ]
  },
  {
   "cell_type": "code",
   "execution_count": 73,
   "id": "dce0958e",
   "metadata": {},
   "outputs": [
    {
     "name": "stdout",
     "output_type": "stream",
     "text": [
      "cross prodcut of 2d vectors:-2\n"
     ]
    },
    {
     "name": "stderr",
     "output_type": "stream",
     "text": [
      "C:\\Users\\asus\\AppData\\Local\\Temp\\ipykernel_9352\\1045807934.py:4: DeprecationWarning: Arrays of 2-dimensional vectors are deprecated. Use arrays of 3-dimensional vectors instead. (deprecated in NumPy 2.0)\n",
      "  cp_2d=np.cross(x,y)\n"
     ]
    }
   ],
   "source": [
    "#2d vector\n",
    "x=np.array([1,2])\n",
    "y=np.array([3,4])\n",
    "cp_2d=np.cross(x,y)\n",
    "print(f'cross prodcut of 2d vectors:{cp_2d}')\n",
    "\n"
   ]
  },
  {
   "cell_type": "code",
   "execution_count": 74,
   "id": "19f02ca9",
   "metadata": {},
   "outputs": [
    {
     "name": "stdout",
     "output_type": "stream",
     "text": [
      "[1. 1. 1.]\n",
      "[1.         0.5        0.33333333]\n"
     ]
    }
   ],
   "source": [
    "print(a/a)\n",
    "print(1/a)\n"
   ]
  },
  {
   "cell_type": "code",
   "execution_count": 77,
   "id": "ee943a42",
   "metadata": {},
   "outputs": [
    {
     "name": "stdout",
     "output_type": "stream",
     "text": [
      "type pf polynomial= <class 'numpy.poly1d'>\n",
      "polynomial expression is:     4     3     2\n",
      "12 x + 3 x + 4 x + 5 x + 10\n",
      "    4     3     2\n",
      "12 x + 3 x + 4 x + 5 x + 10\n",
      "252\n",
      "------------------\n"
     ]
    }
   ],
   "source": [
    "\n",
    "coefficient=[12,3,4,5,10]\n",
    "polyexp=np.poly1d(coefficient)\n",
    "print('type pf polynomial=',type(polyexp))\n",
    "print('polynomial expression is:',polyexp)\n",
    "print(polyexp)\n",
    "x=2\n",
    "result=polyexp(x)\n",
    "print(result)\n",
    "print('------------------')"
   ]
  },
  {
   "cell_type": "code",
   "execution_count": 80,
   "id": "8a77e289",
   "metadata": {},
   "outputs": [
    {
     "data": {
      "text/plain": [
       "matrix([[10, 20, 30, 40],\n",
       "        [50, 60, 70, 80]])"
      ]
     },
     "execution_count": 80,
     "metadata": {},
     "output_type": "execute_result"
    }
   ],
   "source": [
    "a=np.matrix(((10,20,30,40),(50,60,70,80)))\n",
    "a"
   ]
  },
  {
   "cell_type": "code",
   "execution_count": 82,
   "id": "6942d175",
   "metadata": {},
   "outputs": [
    {
     "data": {
      "text/plain": [
       "matrix([[10, 50],\n",
       "        [20, 60],\n",
       "        [30, 70],\n",
       "        [40, 80]])"
      ]
     },
     "execution_count": 82,
     "metadata": {},
     "output_type": "execute_result"
    }
   ],
   "source": [
    "b=np.transpose(a)\n",
    "b"
   ]
  },
  {
   "cell_type": "code",
   "execution_count": 83,
   "id": "17749dfb",
   "metadata": {},
   "outputs": [
    {
     "name": "stdout",
     "output_type": "stream",
     "text": [
      "a \n",
      " [[ 10  20  30  40]\n",
      " [ 50  60  70  80]\n",
      " [ 90 100 110 120]\n",
      " [  2   3   4   5]]\n",
      "b \n",
      " [matrix([[ 10,  20],\n",
      "        [ 50,  60],\n",
      "        [ 90, 100],\n",
      "        [  2,   3]]), matrix([[ 30,  40],\n",
      "        [ 70,  80],\n",
      "        [110, 120],\n",
      "        [  4,   5]])]\n",
      "c \n",
      " [[ 10  20]\n",
      " [ 50  60]\n",
      " [ 90 100]\n",
      " [  2   3]]\n",
      "d \n",
      " [[ 30  40]\n",
      " [ 70  80]\n",
      " [110 120]\n",
      " [  4   5]]\n",
      "e1 \n",
      " [[10 20]\n",
      " [50 60]]\n"
     ]
    }
   ],
   "source": [
    "a=np.matrix(((10,20,30,40),(50,60,70,80),(90,100,110,120),(2,3,4,5)))\n",
    "b=np.hsplit(a,2)\n",
    "print('a \\n',a)\n",
    "print('b \\n',b)\n",
    "c=b[0]\n",
    "d=b[1]\n",
    "print('c \\n',c)\n",
    "print('d \\n',d)\n",
    "e=np.vsplit(c,2)\n",
    "f=np.vsplit(d,2)\n",
    "print('e1 \\n',e[0])\n",
    "\n"
   ]
  },
  {
   "cell_type": "code",
   "execution_count": null,
   "id": "7a1fe142",
   "metadata": {},
   "outputs": [],
   "source": []
  }
 ],
 "metadata": {
  "kernelspec": {
   "display_name": "Python 3",
   "language": "python",
   "name": "python3"
  },
  "language_info": {
   "codemirror_mode": {
    "name": "ipython",
    "version": 3
   },
   "file_extension": ".py",
   "mimetype": "text/x-python",
   "name": "python",
   "nbconvert_exporter": "python",
   "pygments_lexer": "ipython3",
   "version": "3.13.0"
  }
 },
 "nbformat": 4,
 "nbformat_minor": 5
}
