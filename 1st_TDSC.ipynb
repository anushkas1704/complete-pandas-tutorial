{
 "cells": [
  {
   "cell_type": "code",
   "execution_count": 2,
   "id": "e843a77d",
   "metadata": {},
   "outputs": [
    {
     "name": "stdout",
     "output_type": "stream",
     "text": [
      "2401\n"
     ]
    }
   ],
   "source": [
    "a=7**4\n",
    "print(a)"
   ]
  },
  {
   "cell_type": "code",
   "execution_count": 3,
   "id": "ccb23e57",
   "metadata": {},
   "outputs": [
    {
     "data": {
      "text/plain": [
       "['amisha', 'pagal', 'hai']"
      ]
     },
     "execution_count": 3,
     "metadata": {},
     "output_type": "execute_result"
    }
   ],
   "source": [
    "s=\"amisha pagal hai\"\n",
    "s.split()"
   ]
  },
  {
   "cell_type": "code",
   "execution_count": 4,
   "id": "f2b5b7f6",
   "metadata": {},
   "outputs": [
    {
     "name": "stdout",
     "output_type": "stream",
     "text": [
      "the diameter of earth is 12742 \n"
     ]
    }
   ],
   "source": [
    "planet=\"earth\"\n",
    "diameter=12742\n",
    "print(f'the diameter of {planet} is {diameter} ')"
   ]
  },
  {
   "cell_type": "code",
   "execution_count": 12,
   "id": "2657859a",
   "metadata": {},
   "outputs": [
    {
     "name": "stdout",
     "output_type": "stream",
     "text": [
      "200\n"
     ]
    }
   ],
   "source": [
    "lst=[1,2,[3,4],[5,[100,200,[\"hello\"]],23,11],1,7]\n",
    "print(lst[3][1][1])"
   ]
  },
  {
   "cell_type": "code",
   "execution_count": 18,
   "id": "935ed60f",
   "metadata": {},
   "outputs": [
    {
     "name": "stdout",
     "output_type": "stream",
     "text": [
      "hello\n",
      "3\n"
     ]
    }
   ],
   "source": [
    "d={'k1':[1,2,3,{'tricky':['oh','man','inception',{'target':[1,2,3,'hello']}]}]}\n",
    "print(d['k1'][3]['tricky'][3]['target'][3])\n",
    "print(d['k1'][2])"
   ]
  },
  {
   "cell_type": "code",
   "execution_count": 21,
   "id": "e103b7b9",
   "metadata": {},
   "outputs": [
    {
     "data": {
      "text/plain": [
       "'domain.com'"
      ]
     },
     "execution_count": 21,
     "metadata": {},
     "output_type": "execute_result"
    }
   ],
   "source": [
    "def DomainGet(email):\n",
    "    return email.split('@')[-1]\n",
    "DomainGet(\"user@domain.com\")\n"
   ]
  },
  {
   "cell_type": "markdown",
   "id": "0275f26d",
   "metadata": {},
   "source": [
    "create a basic function that returns true if the word is given the string "
   ]
  },
  {
   "cell_type": "code",
   "execution_count": 22,
   "id": "95ad68ea",
   "metadata": {},
   "outputs": [
    {
     "data": {
      "text/plain": [
       "True"
      ]
     },
     "execution_count": 22,
     "metadata": {},
     "output_type": "execute_result"
    }
   ],
   "source": [
    "def dog_fin(str):\n",
    "    return 'dog' in str.lower().split()\n",
    "dog_fin(\"i cant find the dog\")"
   ]
  },
  {
   "cell_type": "code",
   "execution_count": null,
   "id": "152d347d",
   "metadata": {},
   "outputs": [
    {
     "name": "stdout",
     "output_type": "stream",
     "text": [
      "1\n"
     ]
    }
   ],
   "source": [
    "def coundog(st):\n",
    "    count = 0\n",
    "    for word in st.lower().split():\n",
    "        if word == \"dog\":\n",
    "            count += 1\n",
    "    print(count) \n",
    "\n",
    "coundog(\"dog: where is my dog toy\")\n"
   ]
  },
  {
   "cell_type": "markdown",
   "id": "95e5bab4",
   "metadata": {},
   "source": [
    "use lamda func and the filter func to filter out words from the list that doesnt start with the letter 's'"
   ]
  },
  {
   "cell_type": "code",
   "execution_count": 32,
   "id": "0ccb5d22",
   "metadata": {},
   "outputs": [
    {
     "data": {
      "text/plain": [
       "['soup', 'same', 'shy', 'similar']"
      ]
     },
     "execution_count": 32,
     "metadata": {},
     "output_type": "execute_result"
    }
   ],
   "source": [
    "seq=['soup','same','shy','goaway','nowhere','similar','day']\n",
    "list(filter(lambda word:word[0]=='s',seq))"
   ]
  },
  {
   "cell_type": "markdown",
   "id": "d595456a",
   "metadata": {},
   "source": [
    "you're driving fast\n",
    "if speed is less than 60 - no ticket\n",
    "speed if between 61 an 80 - small ticket\n",
    "if speed is 81 or more - big ticket\n",
    "unless its your birthday , on your birthday your speed ca be 5 higher in alll cases "
   ]
  },
  {
   "cell_type": "code",
   "execution_count": null,
   "id": "81453121",
   "metadata": {},
   "outputs": [
    {
     "ename": "_IncompleteInputError",
     "evalue": "incomplete input (2726799595.py, line 3)",
     "output_type": "error",
     "traceback": [
      "\u001b[1;36m  Cell \u001b[1;32mIn[33], line 3\u001b[1;36m\u001b[0m\n\u001b[1;33m    if speed<=65:\u001b[0m\n\u001b[1;37m                 ^\u001b[0m\n\u001b[1;31m_IncompleteInputError\u001b[0m\u001b[1;31m:\u001b[0m incomplete input\n"
     ]
    }
   ],
   "source": [
    "def ticket_type(speed, is_birthday):\n",
    "    if is_birthday:\n",
    "        no_ticket_limit = 65\n",
    "        small_ticket_limit = 85\n",
    "    else:\n",
    "        no_ticket_limit = 60\n",
    "        small_ticket_limit = 80\n",
    "\n",
    "    if speed <= no_ticket_limit:\n",
    "        return \"No ticket\"\n",
    "    elif speed <= small_ticket_limit:\n",
    "        return \"Small ticket\"\n",
    "    else:\n",
    "        return \"Big ticket\"\n"
   ]
  },
  {
   "cell_type": "markdown",
   "id": "1a8a607b",
   "metadata": {},
   "source": [
    "python list dict  fucn prog , lazy evaluation \n",
    "revise"
   ]
  },
  {
   "cell_type": "code",
   "execution_count": 2,
   "id": "a4c6bc6d",
   "metadata": {},
   "outputs": [
    {
     "ename": "ValueError",
     "evalue": "invalid literal for int() with base 10: ''",
     "output_type": "error",
     "traceback": [
      "\u001b[1;31m---------------------------------------------------------------------------\u001b[0m",
      "\u001b[1;31mValueError\u001b[0m                                Traceback (most recent call last)",
      "Cell \u001b[1;32mIn[2], line 6\u001b[0m\n\u001b[0;32m      4\u001b[0m i\u001b[38;5;241m=\u001b[39m\u001b[38;5;241m0\u001b[39m\n\u001b[0;32m      5\u001b[0m \u001b[38;5;28;01mwhile\u001b[39;00m(i\u001b[38;5;241m<\u001b[39m\u001b[38;5;241m4\u001b[39m):\n\u001b[1;32m----> 6\u001b[0m     el\u001b[38;5;241m=\u001b[39m\u001b[38;5;28;43mint\u001b[39;49m\u001b[43m(\u001b[49m\u001b[38;5;28;43minput\u001b[39;49m\u001b[43m(\u001b[49m\u001b[38;5;124;43m\"\u001b[39;49m\u001b[38;5;124;43menter \u001b[39;49m\u001b[38;5;124;43m\"\u001b[39;49m\u001b[43m)\u001b[49m\u001b[43m)\u001b[49m\n\u001b[0;32m      7\u001b[0m     a\u001b[38;5;241m.\u001b[39mappend(el)\n\u001b[0;32m      8\u001b[0m     i\u001b[38;5;241m=\u001b[39mi\u001b[38;5;241m+\u001b[39m\u001b[38;5;241m1\u001b[39m\n",
      "\u001b[1;31mValueError\u001b[0m: invalid literal for int() with base 10: ''"
     ]
    }
   ],
   "source": [
    "import array as arr\n",
    "\n",
    "a=arr.array('i')\n",
    "i=0\n",
    "while(i<4):\n",
    "    el=int(input(\"enter \"))\n",
    "    a.append(el)\n",
    "    i=i+1\n",
    "print(a)\n",
    "\n",
    "largest =a[0]\n",
    "for j in a:\n",
    "    if( a[j]> largest):\n",
    "        largest=a[j]\n",
    "\n",
    "print(f\"the largest num is = {largest}\")"
   ]
  },
  {
   "cell_type": "code",
   "execution_count": null,
   "id": "a2b50ef8",
   "metadata": {},
   "outputs": [],
   "source": []
  },
  {
   "cell_type": "code",
   "execution_count": null,
   "id": "a7113d07",
   "metadata": {},
   "outputs": [],
   "source": []
  }
 ],
 "metadata": {
  "kernelspec": {
   "display_name": "Python 3",
   "language": "python",
   "name": "python3"
  },
  "language_info": {
   "codemirror_mode": {
    "name": "ipython",
    "version": 3
   },
   "file_extension": ".py",
   "mimetype": "text/x-python",
   "name": "python",
   "nbconvert_exporter": "python",
   "pygments_lexer": "ipython3",
   "version": "3.13.0"
  }
 },
 "nbformat": 4,
 "nbformat_minor": 5
}
